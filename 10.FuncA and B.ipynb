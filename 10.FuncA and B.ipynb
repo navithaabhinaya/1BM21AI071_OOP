{
 "cells": [
  {
   "cell_type": "code",
   "execution_count": 1,
   "id": "33881b02",
   "metadata": {},
   "outputs": [
    {
     "name": "stdout",
     "output_type": "stream",
     "text": [
      "1 A 2 B 3 C 4 D 5 E \n",
      "Program finished.\n"
     ]
    }
   ],
   "source": [
    "\"\"\"10.Write a Python program that demonstrates the use of multithreading. Your\n",
    "program should include the following components:\n",
    "1. Thread Creation:  Create two threads, each responsible for executing a different\n",
    "function concurrently.\n",
    "2. Functionality:  Define two functions, function_A and function_B, where\n",
    "function_A prints numbers from 1 to 5, and function_Bprints\n",
    "letters 'A' to 'E'. Ensure that both functions have a delay between\n",
    "prints to simulate time-consuming tasks.\n",
    "3. Thread Execution:  Start both threads to run concurrently.\n",
    "4. Synchronization:  Implement a mechanism to synchronize the threads so that the\n",
    "numbers and letters are printed in an alternating fashion (e.g., 1,\n",
    "'A', 2, 'B', ...).\n",
    "5. Thread Termination:  Ensure that the program waits for both threads to complete their\n",
    "tasks before terminating.\"\"\"\n",
    "import threading\n",
    "import time\n",
    "\n",
    "# Synchronization mechanism using Lock\n",
    "lock = threading.Lock()\n",
    "\n",
    "def function_A():\n",
    "    for i in range(1, 6):\n",
    "        with lock:\n",
    "            print(i, end=' ')\n",
    "            time.sleep(0.1)  # Simulate time-consuming task\n",
    "        time.sleep(0.2)  # Add additional delay for better visualization\n",
    "\n",
    "def function_B():\n",
    "    for char in ['A', 'B', 'C', 'D', 'E']:\n",
    "        with lock:\n",
    "            print(char, end=' ')\n",
    "            time.sleep(0.1)  # Simulate time-consuming task\n",
    "        time.sleep(0.2)  # Add additional delay for better visualization\n",
    "\n",
    "# Create threads\n",
    "thread_A = threading.Thread(target=function_A)\n",
    "thread_B = threading.Thread(target=function_B)\n",
    "\n",
    "# Start both threads\n",
    "thread_A.start()\n",
    "thread_B.start()\n",
    "\n",
    "# Wait for both threads to complete\n",
    "thread_A.join()\n",
    "thread_B.join()\n",
    "\n",
    "print(\"\\nProgram finished.\")\n",
    "\n"
   ]
  },
  {
   "cell_type": "code",
   "execution_count": null,
   "id": "c1e72a6b",
   "metadata": {},
   "outputs": [],
   "source": []
  }
 ],
 "metadata": {
  "kernelspec": {
   "display_name": "Python 3 (ipykernel)",
   "language": "python",
   "name": "python3"
  },
  "language_info": {
   "codemirror_mode": {
    "name": "ipython",
    "version": 3
   },
   "file_extension": ".py",
   "mimetype": "text/x-python",
   "name": "python",
   "nbconvert_exporter": "python",
   "pygments_lexer": "ipython3",
   "version": "3.10.12"
  }
 },
 "nbformat": 4,
 "nbformat_minor": 5
}
