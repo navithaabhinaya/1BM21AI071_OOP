{
 "cells": [
  {
   "cell_type": "code",
   "execution_count": 4,
   "id": "94a1acc2",
   "metadata": {},
   "outputs": [
    {
     "name": "stdout",
     "output_type": "stream",
     "text": [
      "Father's age: 45\n",
      "Son's age: 4\n"
     ]
    }
   ],
   "source": [
    "\"\"\"6.a) Create a base class called Father and derived class called Son which\n",
    "extends the base class. In Father class, implement a constructor which\n",
    "takes the age and throws the user defined exception WrongAge( ) when\n",
    "the input age<0. In Son class, implement a constructor that checks both\n",
    "father and son’s age and throws an using defined exception AgeInvalid( )\n",
    "if son’s age is >=father’s age.\"\"\"\n",
    "class WrongAge(Exception):\n",
    "    def __init__(self, message=\"Age should be greater than or equal to 0\"):\n",
    "        self.message = message\n",
    "        super().__init__(self.message)\n",
    "\n",
    "\n",
    "class AgeInvalid(Exception):\n",
    "    def __init__(self, message=None):\n",
    "        self.message = message\n",
    "        super().__init__(self.message)\n",
    "\n",
    "\n",
    "class Father:\n",
    "    def __init__(self, age):\n",
    "        if age < 0:\n",
    "            raise WrongAge(\"Father's age cannot be less than 0\")\n",
    "        self.age = age\n",
    "\n",
    "\n",
    "class Son(Father):\n",
    "    def __init__(self, father_age, son_age):\n",
    "        super().__init__(father_age)  # Calling the constructor of the base class (Father)\n",
    "\n",
    "        if son_age >= father_age:\n",
    "            raise AgeInvalid(\"Son's age should be less than Father's age\")\n",
    "\n",
    "        self.son_age = son_age\n",
    "\n",
    "\n",
    "# Example Usage:\n",
    "try:\n",
    "\n",
    "    father1 = Father(45)  # Creating a Father object with age 45\n",
    "    son1 = Son(45,4)    # Creating a Son object with Father's age 45 and Son's age 20\n",
    "\n",
    "except WrongAge as wa:\n",
    "    print(\"Error:\", wa)\n",
    "except AgeInvalid as ai:\n",
    "    print(\"Error:\", ai)\n",
    "\n",
    "else:\n",
    "    print(\"Father's age:\", father1.age)\n",
    "    print(\"Son's age:\", son1.son_age)\n"
   ]
  },
  {
   "cell_type": "code",
   "execution_count": 1,
   "id": "3e817fce",
   "metadata": {},
   "outputs": [
    {
     "name": "stdout",
     "output_type": "stream",
     "text": [
      "Enter a formula (e.g., 1 + 1) or type 'quit' to exit: 9 + 9\n",
      "Result: 18.0\n",
      "Enter a formula (e.g., 1 + 1) or type 'quit' to exit: quit\n"
     ]
    }
   ],
   "source": [
    "\"\"\"6.b) You're going to write an interactive calculator! User input is assumed to\n",
    "be a formula that consist of a number, an operator (at least + and -), and\n",
    "another number, separated by white space (e.g. 1 + 1). Split user input\n",
    "using str.split(), and check whether the resulting list is valid:\n",
    "If the input does not consist of 3 elements, raise a FormulaError, which is\n",
    "a custom Exception.\n",
    "try to convert the first and third input to a float (like so: float_value =\n",
    "float(str_value)). Catch any ValueError that occurs, and instead raise a\n",
    "FormulaError\n",
    "If the second input is not '+' or '-', again raise a FormulaError\n",
    "If the input is valid, perform the calculation and print out the result. The\n",
    "user is then prompted to provide new input, and so on, until the user\n",
    "enters quit.\"\"\"\n",
    "class FormulaError(Exception):\n",
    "\n",
    "    def __init__(self, message=\"Invalid formula. Please enter a valid formula with the format: number operator number.\"):\n",
    "        self.message = message\n",
    "        super().__init__(self.message)\n",
    "\n",
    "def calculate(formula):\n",
    "    try:\n",
    "        # Splitting the formula into three parts\n",
    "        num1, operator, num2 = formula.split()\n",
    "\n",
    "        # Converting the first and third inputs to float\n",
    "        num1 = float(num1)\n",
    "        num2 = float(num2)\n",
    "\n",
    "        # Checking if the operator is valid\n",
    "        if operator not in ('+', '-'):\n",
    "            raise FormulaError(\"Invalid operator. Please use '+' or '-'.\")\n",
    "\n",
    "        # Performing the calculation\n",
    "        result = num1 + num2 if operator == '+' else num1 - num2\n",
    "\n",
    "        # Printing the result\n",
    "        print(f\"Result: {result}\")\n",
    "\n",
    "    except ValueError:\n",
    "        raise FormulaError(\"Invalid number. Please enter valid numeric values.\")\n",
    "    except FormulaError as fe:\n",
    "        raise fe\n",
    "\n",
    "# Interactive calculator loop\n",
    "while True:\n",
    "    user_input = input(\"Enter a formula (e.g., 1 + 1) or type 'quit' to exit: \")\n",
    "\n",
    "    if user_input.lower() == 'quit':\n",
    "        break\n",
    "\n",
    "    try:\n",
    "        calculate(user_input)\n",
    "    except FormulaError as fe:\n",
    "        print(f\"Error: {fe}\")\n",
    "\n"
   ]
  },
  {
   "cell_type": "code",
   "execution_count": null,
   "id": "27d69b1f",
   "metadata": {},
   "outputs": [],
   "source": []
  }
 ],
 "metadata": {
  "kernelspec": {
   "display_name": "Python 3 (ipykernel)",
   "language": "python",
   "name": "python3"
  },
  "language_info": {
   "codemirror_mode": {
    "name": "ipython",
    "version": 3
   },
   "file_extension": ".py",
   "mimetype": "text/x-python",
   "name": "python",
   "nbconvert_exporter": "python",
   "pygments_lexer": "ipython3",
   "version": "3.10.12"
  }
 },
 "nbformat": 4,
 "nbformat_minor": 5
}
