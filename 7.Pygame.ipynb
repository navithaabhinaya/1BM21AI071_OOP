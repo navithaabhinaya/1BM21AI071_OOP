{
 "cells": [
  {
   "cell_type": "code",
   "execution_count": null,
   "id": "b669ac0e",
   "metadata": {},
   "outputs": [
    {
     "name": "stdout",
     "output_type": "stream",
     "text": [
      "pygame 2.5.2 (SDL 2.28.2, Python 3.10.12)\n",
      "Hello from the pygame community. https://www.pygame.org/contribute.html\n"
     ]
    }
   ],
   "source": [
    "import pygame\n",
    "import sys\n",
    "\n",
    "# Initialize Pygame\n",
    "pygame.init()\n",
    "\n",
    "# Set up display\n",
    "width, height = 400, 400\n",
    "screen = pygame.display.set_mode((width, height))\n",
    "pygame.display.set_caption(\"Pygame Shapes\")\n",
    "\n",
    "# Set up colors\n",
    "blue = (0, 0, 255)\n",
    "green = (0, 255, 0)\n",
    "black = (0, 0, 0)\n",
    "\n",
    "# Main game loop\n",
    "while True:\n",
    "    for event in pygame.event.get():\n",
    "        if event.type == pygame.QUIT:\n",
    "            pygame.quit()\n",
    "            sys.exit()\n",
    "\n",
    "    # Clear the screen\n",
    "    screen.fill((255, 255, 255))\n",
    "\n",
    "    # Draw shapes\n",
    "    # 1. Polygon\n",
    "    pygame.draw.polygon(screen, blue, [(146, 0), (291, 106), (236, 277), (56, 277), (0, 106)])\n",
    "\n",
    "    # 2. Line\n",
    "    pygame.draw.line(screen, green, (60, 300), (120, 300), 4)\n",
    "\n",
    "    # 3. Circle\n",
    "    pygame.draw.circle(screen, green, (300, 50), 20)\n",
    "\n",
    "    # 4. Ellipse\n",
    "    pygame.draw.ellipse(screen, black, (300, 250, 40, 80), 1)\n",
    "\n",
    "    # 5. Rectangle\n",
    "    pygame.draw.rect(screen, black, (150, 300, 100, 50))\n",
    "\n",
    "    # Update the display\n",
    "    pygame.display.flip()\n",
    "\n",
    "    # Set the frame rate\n",
    "    pygame.time.Clock().tick(60)"
   ]
  },
  {
   "cell_type": "code",
   "execution_count": null,
   "id": "af0d171e",
   "metadata": {},
   "outputs": [],
   "source": []
  }
 ],
 "metadata": {
  "kernelspec": {
   "display_name": "Python 3 (ipykernel)",
   "language": "python",
   "name": "python3"
  },
  "language_info": {
   "codemirror_mode": {
    "name": "ipython",
    "version": 3
   },
   "file_extension": ".py",
   "mimetype": "text/x-python",
   "name": "python",
   "nbconvert_exporter": "python",
   "pygments_lexer": "ipython3",
   "version": "3.10.12"
  }
 },
 "nbformat": 4,
 "nbformat_minor": 5
}
